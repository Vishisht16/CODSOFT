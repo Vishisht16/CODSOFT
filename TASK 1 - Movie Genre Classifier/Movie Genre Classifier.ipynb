{
 "cells": [
  {
   "cell_type": "code",
   "execution_count": 1,
   "id": "99b5c33c-7a43-44b3-88aa-3de90b366987",
   "metadata": {},
   "outputs": [],
   "source": [
    "# Importing useful libraries\n",
    "\n",
    "import pandas as pd\n",
    "from sklearn.feature_extraction.text import TfidfVectorizer\n",
    "from sklearn.model_selection import GridSearchCV\n",
    "from sklearn.naive_bayes import MultinomialNB\n",
    "from sklearn.linear_model import LogisticRegression\n",
    "from sklearn.metrics import accuracy_score, f1_score"
   ]
  },
  {
   "cell_type": "code",
   "execution_count": 2,
   "id": "0307547b-15c4-4f76-a234-ef26ccaca1b3",
   "metadata": {},
   "outputs": [],
   "source": [
    "# Loading data sets into data frames\n",
    "\n",
    "train_df = pd.read_csv('data/train_data.txt', sep=' ::: ', names=['ID', 'TITLE', 'GENRE', 'DESCRIPTION'], engine='python')\n",
    "test_df = pd.read_csv('data/test_data.txt', sep=' ::: ', names=['ID', 'TITLE', 'DESCRIPTION'], engine='python')\n",
    "test_solution_df = pd.read_csv('data/test_data_solution.txt', sep=' ::: ', names=['ID', 'TITLE', 'GENRE', 'DESCRIPTION'], engine='python')"
   ]
  },
  {
   "cell_type": "code",
   "execution_count": 3,
   "id": "b16d4325-b178-486b-8032-fc696a1eb40e",
   "metadata": {},
   "outputs": [],
   "source": [
    "# Sorting train and test data sets\n",
    "\n",
    "x_train = train_df['DESCRIPTION']\n",
    "x_test = test_df['DESCRIPTION']\n",
    "y_train = train_df['GENRE']\n",
    "y_test = test_solution_df['GENRE']"
   ]
  },
  {
   "cell_type": "code",
   "execution_count": 4,
   "id": "dec743a4-4d0a-4441-a500-b072140e3c0c",
   "metadata": {},
   "outputs": [],
   "source": [
    "# Vectorizing text data\n",
    "\n",
    "vectorizer = TfidfVectorizer(stop_words='english', max_features=5000)\n",
    "x_train_tfidf = vectorizer.fit_transform(x_train)\n",
    "x_test_tfidf = vectorizer.transform(x_test)"
   ]
  },
  {
   "cell_type": "code",
   "execution_count": 5,
   "id": "92db0855-4d31-4d55-9174-6a62ceb2f03b",
   "metadata": {},
   "outputs": [],
   "source": [
    "# Models for prediction\n",
    "\n",
    "classifiers = {\n",
    "    'Naive Bayes': MultinomialNB(),\n",
    "    'Logistic Regression': LogisticRegression(max_iter=1000)\n",
    "}"
   ]
  },
  {
   "cell_type": "code",
   "execution_count": 6,
   "id": "b1cef45e-1dca-4dce-91b6-a02ae29f3515",
   "metadata": {},
   "outputs": [],
   "source": [
    "# GridSearchCV parameters\n",
    "\n",
    "parameters_cv = {\n",
    "    'Naive Bayes': {\n",
    "        'alpha': [0.001, 0.01, 0.1, 1.0]\n",
    "    },\n",
    "    'Logistic Regression': {\n",
    "        'C': [0.01, 0.1, 1]\n",
    "    }\n",
    "}"
   ]
  },
  {
   "cell_type": "code",
   "execution_count": 7,
   "id": "bf8921d4-ee94-416d-9a10-3d7fc9851581",
   "metadata": {},
   "outputs": [],
   "source": [
    "# Training and evaluation of best model and parameter\n",
    "\n",
    "results = {}\n",
    "\n",
    "for name, model in classifiers.items():\n",
    "    grid_search = GridSearchCV(model, parameters_cv[name], cv=5, scoring='accuracy', n_jobs=-1)\n",
    "    grid_search.fit(x_train_tfidf, y_train)\n",
    "    \n",
    "    best_model = grid_search.best_estimator_\n",
    "    y_pred = best_model.predict(x_test_tfidf)\n",
    "    \n",
    "    accuracy = accuracy_score(y_test, y_pred)\n",
    "    f1 = f1_score(y_test, y_pred, average='weighted')\n",
    "    \n",
    "    results[name] = {\n",
    "        'Best Params': grid_search.best_params_,\n",
    "        'Accuracy': accuracy,\n",
    "        'F1 Score': f1\n",
    "    }"
   ]
  },
  {
   "cell_type": "code",
   "execution_count": 8,
   "id": "6db98d09-8de3-415a-a1e3-223e5d9f9a29",
   "metadata": {},
   "outputs": [
    {
     "name": "stdout",
     "output_type": "stream",
     "text": [
      "Classifier: Naive Bayes\n",
      "Best Params: {'alpha': 0.1}\n",
      "Accuracy: 0.5454\n",
      "F1 Score: 0.4873\n",
      "------------------------------\n",
      "Classifier: Logistic Regression\n",
      "Best Params: {'C': 1}\n",
      "Accuracy: 0.5839\n",
      "F1 Score: 0.5453\n",
      "------------------------------\n"
     ]
    }
   ],
   "source": [
    "# Printing best model with its accuracy\n",
    "\n",
    "for name, result in results.items():\n",
    "    print(f\"Classifier: {name}\")\n",
    "    print(f\"Best Params: {result['Best Params']}\")\n",
    "    print(f\"Accuracy: {result['Accuracy']:.4f}\")\n",
    "    print(f\"F1 Score: {result['F1 Score']:.4f}\")\n",
    "    print(\"-\" * 30)"
   ]
  },
  {
   "cell_type": "code",
   "execution_count": null,
   "id": "39a3608e-fc6f-42c7-b831-d9801df0be73",
   "metadata": {},
   "outputs": [],
   "source": []
  }
 ],
 "metadata": {
  "kernelspec": {
   "display_name": "Python 3 (ipykernel)",
   "language": "python",
   "name": "python3"
  },
  "language_info": {
   "codemirror_mode": {
    "name": "ipython",
    "version": 3
   },
   "file_extension": ".py",
   "mimetype": "text/x-python",
   "name": "python",
   "nbconvert_exporter": "python",
   "pygments_lexer": "ipython3",
   "version": "3.11.7"
  }
 },
 "nbformat": 4,
 "nbformat_minor": 5
}
