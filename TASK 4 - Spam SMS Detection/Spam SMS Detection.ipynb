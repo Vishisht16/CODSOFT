{
 "cells": [
  {
   "cell_type": "code",
   "execution_count": 11,
   "id": "5e2b6831-a695-4651-9328-b0c3b3b077c4",
   "metadata": {},
   "outputs": [],
   "source": [
    "# Importing important libraries\n",
    "\n",
    "import pandas as pd\n",
    "from sklearn.model_selection import train_test_split, GridSearchCV\n",
    "from sklearn.feature_extraction.text import TfidfVectorizer\n",
    "from sklearn.naive_bayes import MultinomialNB\n",
    "from sklearn.linear_model import LogisticRegression\n",
    "from sklearn.svm import SVC\n",
    "from sklearn.metrics import accuracy_score, f1_score, confusion_matrix, classification_report"
   ]
  },
  {
   "cell_type": "code",
   "execution_count": 12,
   "id": "9674db9f-a2f7-4b7b-9756-4c7f3b9eaaf6",
   "metadata": {},
   "outputs": [],
   "source": [
    "# Reading the data into data frame with proper encoding\n",
    "\n",
    "df = pd.read_csv('data/spam.csv', encoding='latin1')\n",
    "df = df[['v1', 'v2']]\n",
    "df.columns = ['label', 'message']"
   ]
  },
  {
   "cell_type": "code",
   "execution_count": 13,
   "id": "41ad03d8-1f41-42ee-bf07-e0b4710fb78c",
   "metadata": {},
   "outputs": [],
   "source": [
    "# Converting Textual labels to numbers\n",
    "\n",
    "df['label'] = df['label'].map({'ham': 0, 'spam': 1})"
   ]
  },
  {
   "cell_type": "code",
   "execution_count": 14,
   "id": "702abc6a-12f2-47ac-a460-aff279e96a2a",
   "metadata": {},
   "outputs": [],
   "source": [
    "# Splitting the data frame into feature and target\n",
    "\n",
    "x = data['message']\n",
    "y = data['label']\n",
    "\n",
    "# Splitting the data into training and testing sets\n",
    "\n",
    "x_train, x_test, y_train, y_test = train_test_split(X, y, test_size=0.2, random_state=42)"
   ]
  },
  {
   "cell_type": "code",
   "execution_count": 15,
   "id": "e46d6ebd-9f2b-48ff-bb82-9a401c9242f6",
   "metadata": {},
   "outputs": [],
   "source": [
    "# Vectorization of textual features with TF-IDF\n",
    "\n",
    "vectorizer = TfidfVectorizer(stop_words='english', max_features=5000)\n",
    "x_train_tfidf = vectorizer.fit_transform(x_train)\n",
    "x_test_tfidf = vectorizer.transform(x_test)"
   ]
  },
  {
   "cell_type": "code",
   "execution_count": 16,
   "id": "1f0448cc-aaa3-4e6b-8f88-8c09e06ebaba",
   "metadata": {},
   "outputs": [],
   "source": [
    "# Defining models for prediction\n",
    "\n",
    "classifiers = {\n",
    "    'Naive Bayes': MultinomialNB(),\n",
    "    'Logistic Regression': LogisticRegression(max_iter=1000),\n",
    "    'SVM': SVC()\n",
    "}\n",
    "\n",
    "# Defining parameter grids for GridSearchCV\n",
    "parameters_cv = {\n",
    "    'Naive Bayes': {\n",
    "        'alpha': [0.001, 0.01, 0.1, 1.0]\n",
    "    },\n",
    "    'Logistic Regression': {\n",
    "        'C': [0.01, 0.1, 1, 10]\n",
    "    },\n",
    "    'SVM': {\n",
    "        'C': [0.1, 1, 10],\n",
    "        'kernel': ['linear']\n",
    "    }\n",
    "}"
   ]
  },
  {
   "cell_type": "code",
   "execution_count": 18,
   "id": "0042fe85-d6a8-4e91-a7e4-d9ab47349d64",
   "metadata": {},
   "outputs": [],
   "source": [
    "# Evaluation of all models with GridSearchCV individually\n",
    "\n",
    "results = {}\n",
    "for name, clf in classifiers.items():\n",
    "    grid_search = GridSearchCV(clf, parameters_cv[name], cv=5, scoring='accuracy', n_jobs=-1)\n",
    "    grid_search.fit(x_train_tfidf, y_train)\n",
    "    \n",
    "    best_model = grid_search.best_estimator_\n",
    "    y_pred = best_model.predict(x_test_tfidf)\n",
    "    \n",
    "    accuracy = accuracy_score(y_test, y_pred)\n",
    "    f1 = f1_score(y_test, y_pred, average='weighted')\n",
    "    \n",
    "    results[name] = {\n",
    "        'Best Params': grid_search.best_params_,\n",
    "        'Accuracy': accuracy,\n",
    "        'F1 Score': f1,\n",
    "        'Confusion Matrix': confusion_matrix(y_test, y_pred),\n",
    "        'Classification Report': classification_report(y_test, y_pred)\n",
    "    }"
   ]
  },
  {
   "cell_type": "code",
   "execution_count": 19,
   "id": "8d2e3025-4f30-4ba6-a72e-1bd484b63d88",
   "metadata": {},
   "outputs": [
    {
     "name": "stdout",
     "output_type": "stream",
     "text": [
      "Classifier: Naive Bayes\n",
      "Best Params: {'alpha': 0.1}\n",
      "Accuracy: 0.9830\n",
      "F1 Score: 0.9827\n",
      "Confusion Matrix:\n",
      "[[961   4]\n",
      " [ 15 135]]\n",
      "Classification Report:\n",
      "              precision    recall  f1-score   support\n",
      "\n",
      "           0       0.98      1.00      0.99       965\n",
      "           1       0.97      0.90      0.93       150\n",
      "\n",
      "    accuracy                           0.98      1115\n",
      "   macro avg       0.98      0.95      0.96      1115\n",
      "weighted avg       0.98      0.98      0.98      1115\n",
      "\n",
      "------------------------------\n",
      "Classifier: Logistic Regression\n",
      "Best Params: {'C': 10}\n",
      "Accuracy: 0.9758\n",
      "F1 Score: 0.9752\n",
      "Confusion Matrix:\n",
      "[[960   5]\n",
      " [ 22 128]]\n",
      "Classification Report:\n",
      "              precision    recall  f1-score   support\n",
      "\n",
      "           0       0.98      0.99      0.99       965\n",
      "           1       0.96      0.85      0.90       150\n",
      "\n",
      "    accuracy                           0.98      1115\n",
      "   macro avg       0.97      0.92      0.95      1115\n",
      "weighted avg       0.98      0.98      0.98      1115\n",
      "\n",
      "------------------------------\n",
      "Classifier: SVM\n",
      "Best Params: {'C': 10, 'kernel': 'linear'}\n",
      "Accuracy: 0.9821\n",
      "F1 Score: 0.9818\n",
      "Confusion Matrix:\n",
      "[[960   5]\n",
      " [ 15 135]]\n",
      "Classification Report:\n",
      "              precision    recall  f1-score   support\n",
      "\n",
      "           0       0.98      0.99      0.99       965\n",
      "           1       0.96      0.90      0.93       150\n",
      "\n",
      "    accuracy                           0.98      1115\n",
      "   macro avg       0.97      0.95      0.96      1115\n",
      "weighted avg       0.98      0.98      0.98      1115\n",
      "\n",
      "------------------------------\n"
     ]
    }
   ],
   "source": [
    "# Printing results for each model\n",
    "\n",
    "for name, result in results.items():\n",
    "    print(f\"Classifier: {name}\")\n",
    "    print(f\"Best Params: {result['Best Params']}\")\n",
    "    print(f\"Accuracy: {result['Accuracy']:.4f}\")\n",
    "    print(f\"F1 Score: {result['F1 Score']:.4f}\")\n",
    "    print(f\"Confusion Matrix:\\n{result['Confusion Matrix']}\")\n",
    "    print(f\"Classification Report:\\n{result['Classification Report']}\")\n",
    "    print(\"-\" * 30)"
   ]
  },
  {
   "cell_type": "code",
   "execution_count": null,
   "id": "c735d474-7585-41b4-9888-f1da0bdd82bf",
   "metadata": {},
   "outputs": [],
   "source": []
  }
 ],
 "metadata": {
  "kernelspec": {
   "display_name": "Python 3 (ipykernel)",
   "language": "python",
   "name": "python3"
  },
  "language_info": {
   "codemirror_mode": {
    "name": "ipython",
    "version": 3
   },
   "file_extension": ".py",
   "mimetype": "text/x-python",
   "name": "python",
   "nbconvert_exporter": "python",
   "pygments_lexer": "ipython3",
   "version": "3.11.7"
  }
 },
 "nbformat": 4,
 "nbformat_minor": 5
}
