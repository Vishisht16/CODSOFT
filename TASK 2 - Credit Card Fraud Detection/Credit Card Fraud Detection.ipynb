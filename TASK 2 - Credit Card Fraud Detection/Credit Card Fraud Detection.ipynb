{
 "cells": [
  {
   "cell_type": "code",
   "execution_count": 1,
   "id": "53b55b09-e337-4e55-affd-23e8963ab2af",
   "metadata": {},
   "outputs": [],
   "source": [
    "# Importing useful libraries\n",
    "\n",
    "import pandas as pd\n",
    "import numpy as np\n",
    "import matplotlib.pyplot as plt\n",
    "import seaborn as sns\n",
    "from sklearn.preprocessing import StandardScaler, LabelEncoder\n",
    "from sklearn.tree import DecisionTreeClassifier\n",
    "from sklearn.metrics import accuracy_score, f1_score, confusion_matrix, classification_report"
   ]
  },
  {
   "cell_type": "code",
   "execution_count": 11,
   "id": "4f6ea3c3-ae2e-43d5-b62e-584843f2f192",
   "metadata": {},
   "outputs": [],
   "source": [
    "# Loading data into train and test data frames\n",
    "\n",
    "train_df = pd.read_csv('data/fraudTrain.csv')\n",
    "test_df = pd.read_csv('data/fraudTest.csv')"
   ]
  },
  {
   "cell_type": "code",
   "execution_count": 13,
   "id": "cb7b0564-b281-4d35-a246-92dbc92ba3b3",
   "metadata": {},
   "outputs": [],
   "source": [
    "# Preprocessor function creation\n",
    "\n",
    "def preprocess_data(df):\n",
    "    '''\n",
    "    1. Takes the data frame with text values and transform them with label encoder.\n",
    "    2. Formats data and time in data frame.\n",
    "    3. Drops columns with low significance and power of prediction.\n",
    "    '''\n",
    "    le = LabelEncoder()\n",
    "    df['category'] = le.fit_transform(df['category'])\n",
    "    df['gender'] = le.fit_transform(df['gender'])\n",
    "    \n",
    "    df['trans_date_trans_time'] = pd.to_datetime(df['trans_date_trans_time'])\n",
    "    df['dob'] = pd.to_datetime(df['dob'])\n",
    "    \n",
    "    df['transaction_hour'] = df['trans_date_trans_time'].dt.hour\n",
    "    df['age'] = (df['trans_date_trans_time'].dt.year - df['dob'].dt.year)\n",
    "    \n",
    "    df.drop(columns=['trans_date_trans_time', 'cc_num', 'merchant', 'first', 'last', 'street', 'city', 'state', 'zip', 'lat', 'long', 'city_pop', 'job', 'dob', 'trans_num', 'unix_time'], inplace=True)\n",
    "    \n",
    "    return df\n",
    "\n",
    "# Preprocessing training and testing data frames\n",
    "\n",
    "train_df = preprocess_data(train_df)\n",
    "test_df = preprocess_data(test_df)"
   ]
  },
  {
   "cell_type": "code",
   "execution_count": 15,
   "id": "93c3783f-0aef-40aa-a0f4-dcaa49013201",
   "metadata": {},
   "outputs": [],
   "source": [
    "# Sorting and creating training and testing datasets\n",
    "\n",
    "x_train = train_df.drop(columns=['is_fraud'])\n",
    "y_train = train_df['is_fraud']\n",
    "\n",
    "x_test = test_df.drop(columns=['is_fraud'])\n",
    "y_test = test_df['is_fraud']"
   ]
  },
  {
   "cell_type": "code",
   "execution_count": 16,
   "id": "b7e30b69-50ac-48f5-a213-a4fb54f0d34c",
   "metadata": {},
   "outputs": [],
   "source": [
    "# Scaling and standardising features\n",
    "\n",
    "scaler = StandardScaler()\n",
    "x_train_scaled = scaler.fit_transform(x_train)\n",
    "x_test_scaled = scaler.transform(x_test)"
   ]
  },
  {
   "cell_type": "code",
   "execution_count": 17,
   "id": "05ca65ed-b5be-4ae7-9bf5-c8ae749e8f64",
   "metadata": {},
   "outputs": [],
   "source": [
    "# Model training and prediction on test data\n",
    "\n",
    "model_dt = DecisionTreeClassifier(max_depth=10, min_samples_split=5)\n",
    "model_dt.fit(x_train_scaled, y_train)\n",
    "y_pred = model_dt.predict(x_test_scaled) "
   ]
  },
  {
   "cell_type": "code",
   "execution_count": 24,
   "id": "cece1744-9512-456b-bc61-ef19e4953bff",
   "metadata": {},
   "outputs": [
    {
     "name": "stdout",
     "output_type": "stream",
     "text": [
      "Accuracy = 0.9988\n",
      "F1 Score = 0.9987\n",
      "\n",
      "Classification Report\n",
      "              precision    recall  f1-score   support\n",
      "\n",
      "           0       1.00      1.00      1.00    553574\n",
      "           1       0.91      0.76      0.83      2145\n",
      "\n",
      "    accuracy                           1.00    555719\n",
      "   macro avg       0.95      0.88      0.91    555719\n",
      "weighted avg       1.00      1.00      1.00    555719\n",
      "\n"
     ]
    }
   ],
   "source": [
    "# Accuracy and classification report of model\n",
    "\n",
    "accuracy = accuracy_score(y_test, y_pred)\n",
    "f1 = f1_score(y_test, y_pred, average='weighted')\n",
    "\n",
    "print(f\"Accuracy = {accuracy:.4f}\")\n",
    "print(f\"F1 Score = {f1:.4f}\")\n",
    "print('\\nClassification Report')\n",
    "print(classification_report(y_test, y_pred))"
   ]
  },
  {
   "cell_type": "code",
   "execution_count": 26,
   "id": "ce1256c1-da43-4189-bf9c-919d5b2dca09",
   "metadata": {},
   "outputs": [
    {
     "data": {
      "text/plain": [
       "Text(0.5, 1.0, 'CC Fraud Detection')"
      ]
     },
     "execution_count": 26,
     "metadata": {},
     "output_type": "execute_result"
    },
    {
     "data": {
      "image/png": "[encoded data removed]",
      "text/plain": [
       "<Figure size 1000x700 with 2 Axes>"
      ]
     },
     "metadata": {},
     "output_type": "display_data"
    }
   ],
   "source": [
    "# Plotting confusion matrix heatmap for model\n",
    "\n",
    "cm = confusion_matrix(y_test, y_pred)\n",
    "\n",
    "plt.figure(figsize=(10, 7))\n",
    "sns.heatmap(cm, annot=True, fmt='d', cmap='Blues', xticklabels=['Not Fraud', 'Fraud'], yticklabels=['Not Fraud', 'Fraud'])\n",
    "plt.xlabel('Predicted')\n",
    "plt.ylabel('Actual')\n",
    "plt.title('CC Fraud Detection')"
   ]
  },
  {
   "cell_type": "code",
   "execution_count": null,
   "id": "ad971c33-dfb3-43fc-a939-c376c6b450fe",
   "metadata": {},
   "outputs": [],
   "source": []
  }
 ],
 "metadata": {
  "kernelspec": {
   "display_name": "Python 3 (ipykernel)",
   "language": "python",
   "name": "python3"
  },
  "language_info": {
   "codemirror_mode": {
    "name": "ipython",
    "version": 3
   },
   "file_extension": ".py",
   "mimetype": "text/x-python",
   "name": "python",
   "nbconvert_exporter": "python",
   "pygments_lexer": "ipython3",
   "version": "3.11.7"
  }
 },
 "nbformat": 4,
 "nbformat_minor": 5
}
